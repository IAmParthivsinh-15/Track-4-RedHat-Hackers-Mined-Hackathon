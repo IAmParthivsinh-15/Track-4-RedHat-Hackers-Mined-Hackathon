{
 "cells": [
  {
   "cell_type": "code",
   "execution_count": 1,
   "metadata": {
    "_cell_guid": "b1076dfc-b9ad-4769-8c92-a6c4dae69d19",
    "_uuid": "8f2839f25d086af736a60e9eeb907d3b93b6e0e5",
    "execution": {
     "iopub.execute_input": "2025-02-01T06:32:53.946168Z",
     "iopub.status.busy": "2025-02-01T06:32:53.945730Z",
     "iopub.status.idle": "2025-02-01T06:32:54.364072Z",
     "shell.execute_reply": "2025-02-01T06:32:54.362660Z",
     "shell.execute_reply.started": "2025-02-01T06:32:53.946138Z"
    },
    "trusted": true
   },
   "outputs": [
    {
     "name": "stdout",
     "output_type": "stream",
     "text": [
      "/kaggle/input/sel-featurelist/selected_features.npy\n",
      "/kaggle/input/selected-features/api_selected_features.csv\n",
      "/kaggle/input/selected-features/pe_selected_features.csv\n",
      "/kaggle/input/selected-features/dll_selected_features.csv\n"
     ]
    }
   ],
   "source": [
    "# This Python 3 environment comes with many helpful analytics libraries installed\n",
    "# It is defined by the kaggle/python Docker image: https://github.com/kaggle/docker-python\n",
    "# For example, here's several helpful packages to load\n",
    "\n",
    "import numpy as np # linear algebra\n",
    "import pandas as pd # data processing, CSV file I/O (e.g. pd.read_csv)\n",
    "\n",
    "# Input data files are available in the read-only \"../input/\" directory\n",
    "# For example, running this (by clicking run or pressing Shift+Enter) will list all files under the input directory\n",
    "\n",
    "import os\n",
    "for dirname, _, filenames in os.walk('/kaggle/input'):\n",
    "    for filename in filenames:\n",
    "        print(os.path.join(dirname, filename))\n",
    "\n",
    "# You can write up to 20GB to the current directory (/kaggle/working/) that gets preserved as output when you create a version using \"Save & Run All\" \n",
    "# You can also write temporary files to /kaggle/temp/, but they won't be saved outside of the current session"
   ]
  },
  {
   "cell_type": "code",
   "execution_count": 2,
   "metadata": {
    "execution": {
     "iopub.execute_input": "2025-02-01T06:32:59.070587Z",
     "iopub.status.busy": "2025-02-01T06:32:59.070103Z",
     "iopub.status.idle": "2025-02-01T06:33:00.091266Z",
     "shell.execute_reply": "2025-02-01T06:33:00.090018Z",
     "shell.execute_reply.started": "2025-02-01T06:32:59.070556Z"
    },
    "trusted": true
   },
   "outputs": [],
   "source": [
    "import pickle\n",
    "import numpy as np\n",
    "import pandas as pd\n",
    "from sklearn.preprocessing import StandardScaler\n",
    "from sklearn.metrics import accuracy_score\n",
    "from sklearn.model_selection import train_test_split\n",
    "import xgboost as xgb"
   ]
  },
  {
   "cell_type": "code",
   "execution_count": 36,
   "metadata": {
    "execution": {
     "iopub.execute_input": "2025-02-01T07:10:31.800533Z",
     "iopub.status.busy": "2025-02-01T07:10:31.800106Z",
     "iopub.status.idle": "2025-02-01T07:10:31.810016Z",
     "shell.execute_reply": "2025-02-01T07:10:31.808953Z",
     "shell.execute_reply.started": "2025-02-01T07:10:31.800499Z"
    },
    "trusted": true
   },
   "outputs": [],
   "source": [
    "class ModelWrapper:\n",
    "    def __init__(self, selected_features, n_components=0.95, random_state=42):\n",
    "        \"\"\"Initialize PCA, Scaler, and Random Forest Model.\"\"\"\n",
    "        self.random_state = random_state\n",
    "        self.scaler = StandardScaler()\n",
    "        self.model = xgb.XGBClassifier(\n",
    "    n_estimators=100,       \n",
    "    max_depth=7,\n",
    "    learning_rate=0.2,      \n",
    "    subsample=0.8,          \n",
    "    colsample_bytree=0.8    \n",
    ")\n",
    "        self.selected_features = selected_features\n",
    "\n",
    "    def fit(self, X_train, y_train):\n",
    "        \"\"\"Fits the scaler, PCA, and trains the Random Forest model.\"\"\"\n",
    "        print(\"\\n=== Starting Model Training ===\")\n",
    "        print(f\"Number of features after selection: {X_train[self.selected_features].shape}\")\n",
    "\n",
    "        # Scale and apply PCA\n",
    "        X_train_scaled = self.scaler.fit_transform(X_train[self.selected_features])\n",
    "\n",
    "\n",
    "        # Train Random Forest\n",
    "        print(\"\\n=== Training Model ===\")\n",
    "        self.model.fit(X_train_scaled, y_train)\n",
    "\n",
    "    def transform(self, X):\n",
    "        \"\"\"Applies Scaling and PCA transformation to new data.\"\"\"\n",
    "        X_scaled = self.scaler.transform(X[self.selected_features])\n",
    "        return X_scaled\n",
    "\n",
    "    def predict(self, X):\n",
    "        \"\"\"Predicts using the trained Random Forest model.\"\"\"\n",
    "        rf_preds = self.model.predict(self.transform(X))\n",
    "        return rf_preds\n",
    "\n",
    "    def evaluate(self, X_test, y_test):\n",
    "        \"\"\"Evaluates model accuracy for the Random Forest model.\"\"\"\n",
    "        rf_preds = self.predict(X_test)\n",
    "        rf_acc = accuracy_score(y_test, rf_preds)\n",
    "\n",
    "        print(f\"\\nModel Accuracy: {rf_acc:.4f}\")\n",
    "        return rf_acc\n",
    "\n",
    "    def save(self, filename=\"model.pkl\"):\n",
    "        \"\"\"Saves the entire pipeline (Scaler, PCA, Random Forest) as a pickle file.\"\"\"\n",
    "        with open(filename, \"wb\") as f:\n",
    "            pickle.dump(self, f)\n",
    "        print(f\"\\n✅ Model saved as '{filename}'\")\n",
    "\n",
    "    @staticmethod\n",
    "    def load(filename=\"model.pkl\"):\n",
    "        \"\"\"Loads a trained model from a pickle file.\"\"\"\n",
    "        with open(filename, \"rb\") as f:\n",
    "            model = pickle.load(f)\n",
    "        print(f\"\\n✅ Model loaded from '{filename}'\")\n",
    "        return model\n"
   ]
  },
  {
   "cell_type": "code",
   "execution_count": 15,
   "metadata": {
    "execution": {
     "iopub.execute_input": "2025-02-01T06:57:58.383096Z",
     "iopub.status.busy": "2025-02-01T06:57:58.382670Z",
     "iopub.status.idle": "2025-02-01T06:58:03.603199Z",
     "shell.execute_reply": "2025-02-01T06:58:03.602191Z",
     "shell.execute_reply.started": "2025-02-01T06:57:58.383063Z"
    },
    "trusted": true
   },
   "outputs": [],
   "source": [
    "s_dll_df = pd.read_csv(\"/kaggle/input/selected-features/dll_selected_features.csv\")\n",
    "s_api_df = pd.read_csv(\"/kaggle/input/selected-features/api_selected_features.csv\")\n",
    "s_pe_df = pd.read_csv(\"/kaggle/input/selected-features/pe_selected_features.csv\")"
   ]
  },
  {
   "cell_type": "code",
   "execution_count": 16,
   "metadata": {
    "execution": {
     "iopub.execute_input": "2025-02-01T06:58:10.171037Z",
     "iopub.status.busy": "2025-02-01T06:58:10.170633Z",
     "iopub.status.idle": "2025-02-01T06:58:17.466381Z",
     "shell.execute_reply": "2025-02-01T06:58:17.465418Z",
     "shell.execute_reply.started": "2025-02-01T06:58:10.171008Z"
    },
    "trusted": true
   },
   "outputs": [
    {
     "data": {
      "text/plain": [
       "(28014, 1861)"
      ]
     },
     "execution_count": 16,
     "metadata": {},
     "output_type": "execute_result"
    }
   ],
   "source": [
    "df = pd.concat([s_api_df, s_dll_df, s_pe_df], axis=0, ignore_index=True)\n",
    "df.fillna(0, inplace=True)\n",
    "df_merged = df.groupby(\"SHA256\", as_index=False).max()\n",
    "df_merged.shape"
   ]
  },
  {
   "cell_type": "code",
   "execution_count": 25,
   "metadata": {
    "execution": {
     "iopub.execute_input": "2025-02-01T07:05:05.618362Z",
     "iopub.status.busy": "2025-02-01T07:05:05.617947Z",
     "iopub.status.idle": "2025-02-01T07:05:41.965857Z",
     "shell.execute_reply": "2025-02-01T07:05:41.964779Z",
     "shell.execute_reply.started": "2025-02-01T07:05:05.618330Z"
    },
    "trusted": true
   },
   "outputs": [],
   "source": [
    "df_merged.to_csv(\"merged_selected_features.csv\")"
   ]
  },
  {
   "cell_type": "code",
   "execution_count": 26,
   "metadata": {
    "execution": {
     "iopub.execute_input": "2025-02-01T07:05:46.593199Z",
     "iopub.status.busy": "2025-02-01T07:05:46.592765Z",
     "iopub.status.idle": "2025-02-01T07:05:52.710040Z",
     "shell.execute_reply": "2025-02-01T07:05:52.708915Z",
     "shell.execute_reply.started": "2025-02-01T07:05:46.593169Z"
    },
    "trusted": true
   },
   "outputs": [],
   "source": [
    "df = pd.read_csv('/kaggle/working/merged_selected_features.csv')"
   ]
  },
  {
   "cell_type": "code",
   "execution_count": 27,
   "metadata": {
    "execution": {
     "iopub.execute_input": "2025-02-01T07:05:53.832940Z",
     "iopub.status.busy": "2025-02-01T07:05:53.832553Z",
     "iopub.status.idle": "2025-02-01T07:05:53.839964Z",
     "shell.execute_reply": "2025-02-01T07:05:53.838934Z",
     "shell.execute_reply.started": "2025-02-01T07:05:53.832907Z"
    },
    "trusted": true
   },
   "outputs": [
    {
     "data": {
      "text/plain": [
       "Index(['Unnamed: 0.1', 'SHA256', 'Unnamed: 0', 'getaclinformation', 'getace',\n",
       "       'regqueryvalueexa', 'regopenkeyexa', 'regclosekey',\n",
       "       'getnamedsecurityinfow', 'regsetvalueexw',\n",
       "       ...\n",
       "       'rdata_SizeOfRawData', 'rdata_PointerToRawData',\n",
       "       'rsrc_Misc_VirtualSize', 'rsrc_VirtualAddress', 'rsrc_SizeOfRawData',\n",
       "       'rsrc_PointerToRawData', 'reloc_Misc_VirtualSize',\n",
       "       'reloc_VirtualAddress', 'reloc_SizeOfRawData',\n",
       "       'reloc_PointerToRawData'],\n",
       "      dtype='object', length=1862)"
      ]
     },
     "execution_count": 27,
     "metadata": {},
     "output_type": "execute_result"
    }
   ],
   "source": [
    "df.columns"
   ]
  },
  {
   "cell_type": "code",
   "execution_count": 28,
   "metadata": {
    "execution": {
     "iopub.execute_input": "2025-02-01T07:06:09.103046Z",
     "iopub.status.busy": "2025-02-01T07:06:09.102645Z",
     "iopub.status.idle": "2025-02-01T07:06:09.239449Z",
     "shell.execute_reply": "2025-02-01T07:06:09.238363Z",
     "shell.execute_reply.started": "2025-02-01T07:06:09.103014Z"
    },
    "trusted": true
   },
   "outputs": [],
   "source": [
    "X = df.drop(columns=['Type', 'Unnamed: 0', 'SHA256', 'Unnamed: 0.1'])\n",
    "y = df['Type']"
   ]
  },
  {
   "cell_type": "code",
   "execution_count": 29,
   "metadata": {
    "execution": {
     "iopub.execute_input": "2025-02-01T07:06:12.511978Z",
     "iopub.status.busy": "2025-02-01T07:06:12.511557Z",
     "iopub.status.idle": "2025-02-01T07:06:12.851025Z",
     "shell.execute_reply": "2025-02-01T07:06:12.850108Z",
     "shell.execute_reply.started": "2025-02-01T07:06:12.511945Z"
    },
    "trusted": true
   },
   "outputs": [],
   "source": [
    "X_train, X_test, y_train, y_test = train_test_split(X, y, test_size=0.2, random_state=42)"
   ]
  },
  {
   "cell_type": "markdown",
   "metadata": {},
   "source": [
    "# Training the model"
   ]
  },
  {
   "cell_type": "code",
   "execution_count": 37,
   "metadata": {
    "execution": {
     "iopub.execute_input": "2025-02-01T07:11:26.865493Z",
     "iopub.status.busy": "2025-02-01T07:11:26.865161Z",
     "iopub.status.idle": "2025-02-01T07:12:06.752405Z",
     "shell.execute_reply": "2025-02-01T07:12:06.750910Z",
     "shell.execute_reply.started": "2025-02-01T07:11:26.865470Z"
    },
    "trusted": true
   },
   "outputs": [
    {
     "name": "stdout",
     "output_type": "stream",
     "text": [
      "1858\n",
      "\n",
      "=== Starting Model Training ===\n",
      "Number of features after selection: (22411, 1858)\n",
      "\n",
      "=== Training Model ===\n",
      "\n",
      "Model Accuracy: 0.8972\n"
     ]
    },
    {
     "data": {
      "text/plain": [
       "0.8971979296805282"
      ]
     },
     "execution_count": 37,
     "metadata": {},
     "output_type": "execute_result"
    }
   ],
   "source": [
    "sel_feature_list = np.load(\"/kaggle/input/sel-featurelist/selected_features.npy\")\n",
    "print(len(sel_feature_list))\n",
    "model = ModelWrapper(sel_feature_list)\n",
    "model.fit(X_train, y_train)\n",
    "model.evaluate(X_test, y_test)"
   ]
  },
  {
   "cell_type": "code",
   "execution_count": 39,
   "metadata": {
    "execution": {
     "iopub.execute_input": "2025-02-01T07:12:33.633038Z",
     "iopub.status.busy": "2025-02-01T07:12:33.632582Z",
     "iopub.status.idle": "2025-02-01T07:12:33.659986Z",
     "shell.execute_reply": "2025-02-01T07:12:33.658770Z",
     "shell.execute_reply.started": "2025-02-01T07:12:33.633005Z"
    },
    "trusted": true
   },
   "outputs": [
    {
     "name": "stdout",
     "output_type": "stream",
     "text": [
      "\n",
      "✅ Model saved as 'xgb_model.pkl'\n"
     ]
    }
   ],
   "source": [
    "model.save(filename=\"xgb_model.pkl\")"
   ]
  },
  {
   "cell_type": "markdown",
   "metadata": {},
   "source": [
    "# Loading the saved model"
   ]
  },
  {
   "cell_type": "code",
   "execution_count": 40,
   "metadata": {
    "execution": {
     "iopub.execute_input": "2025-02-01T07:12:46.272011Z",
     "iopub.status.busy": "2025-02-01T07:12:46.271603Z",
     "iopub.status.idle": "2025-02-01T07:12:46.297169Z",
     "shell.execute_reply": "2025-02-01T07:12:46.295528Z",
     "shell.execute_reply.started": "2025-02-01T07:12:46.271978Z"
    },
    "trusted": true
   },
   "outputs": [
    {
     "name": "stdout",
     "output_type": "stream",
     "text": [
      "\n",
      "✅ Model loaded from '/kaggle/working/xgb_model.pkl'\n"
     ]
    }
   ],
   "source": [
    "model = ModelWrapper.load(\"/kaggle/working/xgb_model.pkl\")"
   ]
  },
  {
   "cell_type": "code",
   "execution_count": 42,
   "metadata": {
    "execution": {
     "iopub.execute_input": "2025-02-01T07:15:37.074164Z",
     "iopub.status.busy": "2025-02-01T07:15:37.073600Z",
     "iopub.status.idle": "2025-02-01T07:15:46.607304Z",
     "shell.execute_reply": "2025-02-01T07:15:46.606036Z",
     "shell.execute_reply.started": "2025-02-01T07:15:37.074125Z"
    },
    "trusted": true
   },
   "outputs": [],
   "source": [
    "test_df= pd.read_csv(\"/kaggle/input/test-dataset/test.csv\")"
   ]
  },
  {
   "cell_type": "code",
   "execution_count": 43,
   "metadata": {
    "execution": {
     "iopub.execute_input": "2025-02-01T07:15:48.211403Z",
     "iopub.status.busy": "2025-02-01T07:15:48.211049Z",
     "iopub.status.idle": "2025-02-01T07:15:48.283223Z",
     "shell.execute_reply": "2025-02-01T07:15:48.282079Z",
     "shell.execute_reply.started": "2025-02-01T07:15:48.211379Z"
    },
    "trusted": true
   },
   "outputs": [],
   "source": [
    "X = test_df.drop(columns=[\"SHA256\"])"
   ]
  },
  {
   "cell_type": "code",
   "execution_count": 44,
   "metadata": {
    "execution": {
     "iopub.execute_input": "2025-02-01T07:15:51.811193Z",
     "iopub.status.busy": "2025-02-01T07:15:51.810774Z",
     "iopub.status.idle": "2025-02-01T07:15:51.899211Z",
     "shell.execute_reply": "2025-02-01T07:15:51.898395Z",
     "shell.execute_reply.started": "2025-02-01T07:15:51.811165Z"
    },
    "trusted": true
   },
   "outputs": [],
   "source": [
    "test_pred = model.predict(X)\n",
    "test_pred = pd.concat([test_df['SHA256'], pd.DataFrame(test_pred)], axis=1, ignore_index=True)"
   ]
  },
  {
   "cell_type": "code",
   "execution_count": 45,
   "metadata": {
    "execution": {
     "iopub.execute_input": "2025-02-01T07:15:54.698084Z",
     "iopub.status.busy": "2025-02-01T07:15:54.697655Z",
     "iopub.status.idle": "2025-02-01T07:15:54.708765Z",
     "shell.execute_reply": "2025-02-01T07:15:54.707570Z",
     "shell.execute_reply.started": "2025-02-01T07:15:54.698048Z"
    },
    "trusted": true
   },
   "outputs": [],
   "source": [
    "test_pred.columns = ['SHA256', 'pred']\n",
    "test_pred.to_csv(\"test_result.csv\")"
   ]
  }
 ],
 "metadata": {
  "kaggle": {
   "accelerator": "none",
   "dataSources": [
    {
     "datasetId": 6575895,
     "sourceId": 10620524,
     "sourceType": "datasetVersion"
    },
    {
     "datasetId": 6582888,
     "sourceId": 10632614,
     "sourceType": "datasetVersion"
    },
    {
     "datasetId": 6583301,
     "sourceId": 10633184,
     "sourceType": "datasetVersion"
    }
   ],
   "dockerImageVersionId": 30839,
   "isGpuEnabled": false,
   "isInternetEnabled": true,
   "language": "python",
   "sourceType": "notebook"
  },
  "kernelspec": {
   "display_name": "Python 3",
   "language": "python",
   "name": "python3"
  },
  "language_info": {
   "codemirror_mode": {
    "name": "ipython",
    "version": 3
   },
   "file_extension": ".py",
   "mimetype": "text/x-python",
   "name": "python",
   "nbconvert_exporter": "python",
   "pygments_lexer": "ipython3",
   "version": "3.10.12"
  }
 },
 "nbformat": 4,
 "nbformat_minor": 4
}
